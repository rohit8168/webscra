{
 "cells": [
  {
   "cell_type": "code",
   "execution_count": 51,
   "id": "4b6493cf",
   "metadata": {},
   "outputs": [],
   "source": [
    "import selenium \n",
    "from selenium import webdriver\n",
    "from bs4 import BeautifulSoup\n",
    "import pandas as pd\n",
    "import requests\n",
    "import os\n",
    "import time\n",
    "from tqdm import tqdm\n",
    "from shutil import copy"
   ]
  },
  {
   "cell_type": "code",
   "execution_count": 8,
   "id": "0d028b71",
   "metadata": {},
   "outputs": [],
   "source": [
    "driver=webdriver.Edge()"
   ]
  },
  {
   "cell_type": "code",
   "execution_count": 9,
   "id": "29eff898",
   "metadata": {},
   "outputs": [],
   "source": [
    "driver.get(\"https://stock-pictures.netlify.app/\")"
   ]
  },
  {
   "cell_type": "code",
   "execution_count": 10,
   "id": "cc6208c8",
   "metadata": {},
   "outputs": [
    {
     "name": "stderr",
     "output_type": "stream",
     "text": [
      "100%|██████████████████████████████████████████████████████████████████████████████| 1000/1000 [02:24<00:00,  6.91it/s]\n"
     ]
    }
   ],
   "source": [
    "for i in tqdm(range(0,1000000,1000)):\n",
    "    driver.execute_script(\"window.scrollTo(0,\"  + str(i) + \")\")\n",
    "    time.sleep(.1)"
   ]
  },
  {
   "cell_type": "code",
   "execution_count": 11,
   "id": "40691ae0",
   "metadata": {},
   "outputs": [],
   "source": [
    "soup=BeautifulSoup(driver.page_source,\"html.parser\")\n",
    "data=[]\n",
    "for i in soup.find_all(\"div\",class_='container'):\n",
    "    link=i.find(\"img\").get('src')\n",
    "    tags=i.find(\"span\",class_='tag-color').text.split(\"-\")[1].split(\",\")\n",
    "    \n",
    "    likes=i.find(\"div\",class_=\"likes-comments\").find_all(\"span\")[0].text.split(\" \")[0]\n",
    "    comments=i.find(\"div\",class_=\"likes-comments\").find_all(\"span\")[1].text.split(\" \")[0]\n",
    "    data.append([link,tags,likes,comments])\n",
    "    "
   ]
  },
  {
   "cell_type": "code",
   "execution_count": 12,
   "id": "80e7ffab",
   "metadata": {},
   "outputs": [],
   "source": [
    "df=pd.DataFrame(data,columns=[\"link\",\"tags\",\"likes\",\"comments\"])\n"
   ]
  },
  {
   "cell_type": "code",
   "execution_count": 13,
   "id": "803a2361",
   "metadata": {},
   "outputs": [],
   "source": [
    "def download(link,img_path):\n",
    "    res=requests.get(link)\n",
    "    fd=open(img_path,'wb')\n",
    "    fd.write(res.content)\n",
    "    fd.close"
   ]
  },
  {
   "cell_type": "code",
   "execution_count": 14,
   "id": "0c1faaa7",
   "metadata": {},
   "outputs": [],
   "source": [
    "os.mkdir(\"img\")"
   ]
  },
  {
   "cell_type": "code",
   "execution_count": 15,
   "id": "7c193c59",
   "metadata": {},
   "outputs": [
    {
     "name": "stderr",
     "output_type": "stream",
     "text": [
      "100%|██████████████████████████████████████████████████████████████████████████████| 4245/4245 [15:39<00:00,  4.52it/s]\n"
     ]
    }
   ],
   "source": [
    "\n",
    "pat=[]\n",
    "id=[]\n",
    "ref=100000\n",
    "j=1\n",
    "for i in tqdm(df['link']):\n",
    "    img_id=\"A\"+str(ref+j)[1:]\n",
    "    j+=1\n",
    "    path=\"img/\"+img_id+\".jpg\"\n",
    "    id.append(img_id)\n",
    "    pat.append(path)\n",
    "    download(i,path)\n",
    "    \n",
    "    \n",
    "        \n",
    "        "
   ]
  },
  {
   "cell_type": "code",
   "execution_count": 16,
   "id": "999fcd5b",
   "metadata": {},
   "outputs": [
    {
     "data": {
      "text/html": [
       "<div>\n",
       "<style scoped>\n",
       "    .dataframe tbody tr th:only-of-type {\n",
       "        vertical-align: middle;\n",
       "    }\n",
       "\n",
       "    .dataframe tbody tr th {\n",
       "        vertical-align: top;\n",
       "    }\n",
       "\n",
       "    .dataframe thead th {\n",
       "        text-align: right;\n",
       "    }\n",
       "</style>\n",
       "<table border=\"1\" class=\"dataframe\">\n",
       "  <thead>\n",
       "    <tr style=\"text-align: right;\">\n",
       "      <th></th>\n",
       "      <th>link</th>\n",
       "      <th>tags</th>\n",
       "      <th>likes</th>\n",
       "      <th>comments</th>\n",
       "      <th>path</th>\n",
       "      <th>id</th>\n",
       "    </tr>\n",
       "  </thead>\n",
       "  <tbody>\n",
       "    <tr>\n",
       "      <th>0</th>\n",
       "      <td>https://cdn.pixabay.com/photo/2022/03/06/05/30...</td>\n",
       "      <td>[ Clouds,  Sky,  Atmosphere,  Blue Sky]</td>\n",
       "      <td>196</td>\n",
       "      <td>55</td>\n",
       "      <td>img/A00001.jpg</td>\n",
       "      <td>A00001</td>\n",
       "    </tr>\n",
       "    <tr>\n",
       "      <th>1</th>\n",
       "      <td>https://cdn.pixabay.com/photo/2022/04/07/11/45...</td>\n",
       "      <td>[ Bird,  Ornithology,  Hummingbird]</td>\n",
       "      <td>76</td>\n",
       "      <td>20</td>\n",
       "      <td>img/A00002.jpg</td>\n",
       "      <td>A00002</td>\n",
       "    </tr>\n",
       "    <tr>\n",
       "      <th>2</th>\n",
       "      <td>https://cdn.pixabay.com/photo/2022/02/28/15/28...</td>\n",
       "      <td>[ Sea,  Rainbow,  Rainfall,  Subtropical]</td>\n",
       "      <td>282</td>\n",
       "      <td>106</td>\n",
       "      <td>img/A00003.jpg</td>\n",
       "      <td>A00003</td>\n",
       "    </tr>\n",
       "    <tr>\n",
       "      <th>3</th>\n",
       "      <td>https://cdn.pixabay.com/photo/2022/04/04/02/52...</td>\n",
       "      <td>[ Cherry Blossoms,  Road,  Japan,  Sakura]</td>\n",
       "      <td>42</td>\n",
       "      <td>11</td>\n",
       "      <td>img/A00004.jpg</td>\n",
       "      <td>A00004</td>\n",
       "    </tr>\n",
       "    <tr>\n",
       "      <th>4</th>\n",
       "      <td>https://cdn.pixabay.com/photo/2022/04/09/18/06...</td>\n",
       "      <td>[ Cape Marguerite,  Flower,  Plant]</td>\n",
       "      <td>39</td>\n",
       "      <td>15</td>\n",
       "      <td>img/A00005.jpg</td>\n",
       "      <td>A00005</td>\n",
       "    </tr>\n",
       "    <tr>\n",
       "      <th>...</th>\n",
       "      <td>...</td>\n",
       "      <td>...</td>\n",
       "      <td>...</td>\n",
       "      <td>...</td>\n",
       "      <td>...</td>\n",
       "      <td>...</td>\n",
       "    </tr>\n",
       "    <tr>\n",
       "      <th>4240</th>\n",
       "      <td>https://cdn.pixabay.com/photo/2021/12/17/19/16...</td>\n",
       "      <td>[ Dog,  Grooming,  Pet,  Salon,  Hair]</td>\n",
       "      <td>8</td>\n",
       "      <td>1</td>\n",
       "      <td>img/A04241.jpg</td>\n",
       "      <td>A04241</td>\n",
       "    </tr>\n",
       "    <tr>\n",
       "      <th>4241</th>\n",
       "      <td>https://cdn.pixabay.com/photo/2022/02/04/17/39...</td>\n",
       "      <td>[ Cows,  Alpine Meadow,  Cattle,  Meadow]</td>\n",
       "      <td>18</td>\n",
       "      <td>19</td>\n",
       "      <td>img/A04242.jpg</td>\n",
       "      <td>A04242</td>\n",
       "    </tr>\n",
       "    <tr>\n",
       "      <th>4242</th>\n",
       "      <td>https://cdn.pixabay.com/photo/2017/06/01/02/20...</td>\n",
       "      <td>[ Marble,  Texture,  White,  Pattern]</td>\n",
       "      <td>192</td>\n",
       "      <td>25</td>\n",
       "      <td>img/A04243.jpg</td>\n",
       "      <td>A04243</td>\n",
       "    </tr>\n",
       "    <tr>\n",
       "      <th>4243</th>\n",
       "      <td>https://cdn.pixabay.com/photo/2020/01/14/14/41...</td>\n",
       "      <td>[ Forest,  Trees,  Leaves,  Nature,  Light]</td>\n",
       "      <td>221</td>\n",
       "      <td>25</td>\n",
       "      <td>img/A04244.jpg</td>\n",
       "      <td>A04244</td>\n",
       "    </tr>\n",
       "    <tr>\n",
       "      <th>4244</th>\n",
       "      <td>https://cdn.pixabay.com/photo/2013/10/21/10/05...</td>\n",
       "      <td>[ Saint,  Meditation,  Yoga,  Meditating]</td>\n",
       "      <td>333</td>\n",
       "      <td>64</td>\n",
       "      <td>img/A04245.jpg</td>\n",
       "      <td>A04245</td>\n",
       "    </tr>\n",
       "  </tbody>\n",
       "</table>\n",
       "<p>4245 rows × 6 columns</p>\n",
       "</div>"
      ],
      "text/plain": [
       "                                                   link  \\\n",
       "0     https://cdn.pixabay.com/photo/2022/03/06/05/30...   \n",
       "1     https://cdn.pixabay.com/photo/2022/04/07/11/45...   \n",
       "2     https://cdn.pixabay.com/photo/2022/02/28/15/28...   \n",
       "3     https://cdn.pixabay.com/photo/2022/04/04/02/52...   \n",
       "4     https://cdn.pixabay.com/photo/2022/04/09/18/06...   \n",
       "...                                                 ...   \n",
       "4240  https://cdn.pixabay.com/photo/2021/12/17/19/16...   \n",
       "4241  https://cdn.pixabay.com/photo/2022/02/04/17/39...   \n",
       "4242  https://cdn.pixabay.com/photo/2017/06/01/02/20...   \n",
       "4243  https://cdn.pixabay.com/photo/2020/01/14/14/41...   \n",
       "4244  https://cdn.pixabay.com/photo/2013/10/21/10/05...   \n",
       "\n",
       "                                             tags likes comments  \\\n",
       "0         [ Clouds,  Sky,  Atmosphere,  Blue Sky]   196       55   \n",
       "1             [ Bird,  Ornithology,  Hummingbird]    76       20   \n",
       "2       [ Sea,  Rainbow,  Rainfall,  Subtropical]   282      106   \n",
       "3      [ Cherry Blossoms,  Road,  Japan,  Sakura]    42       11   \n",
       "4             [ Cape Marguerite,  Flower,  Plant]    39       15   \n",
       "...                                           ...   ...      ...   \n",
       "4240       [ Dog,  Grooming,  Pet,  Salon,  Hair]     8        1   \n",
       "4241    [ Cows,  Alpine Meadow,  Cattle,  Meadow]    18       19   \n",
       "4242        [ Marble,  Texture,  White,  Pattern]   192       25   \n",
       "4243  [ Forest,  Trees,  Leaves,  Nature,  Light]   221       25   \n",
       "4244    [ Saint,  Meditation,  Yoga,  Meditating]   333       64   \n",
       "\n",
       "                path      id  \n",
       "0     img/A00001.jpg  A00001  \n",
       "1     img/A00002.jpg  A00002  \n",
       "2     img/A00003.jpg  A00003  \n",
       "3     img/A00004.jpg  A00004  \n",
       "4     img/A00005.jpg  A00005  \n",
       "...              ...     ...  \n",
       "4240  img/A04241.jpg  A04241  \n",
       "4241  img/A04242.jpg  A04242  \n",
       "4242  img/A04243.jpg  A04243  \n",
       "4243  img/A04244.jpg  A04244  \n",
       "4244  img/A04245.jpg  A04245  \n",
       "\n",
       "[4245 rows x 6 columns]"
      ]
     },
     "execution_count": 16,
     "metadata": {},
     "output_type": "execute_result"
    }
   ],
   "source": [
    "df['path']=pat\n",
    "df['id']=id\n",
    "df"
   ]
  },
  {
   "cell_type": "code",
   "execution_count": 34,
   "id": "9f36f374",
   "metadata": {},
   "outputs": [
    {
     "data": {
      "text/plain": [
       "4682"
      ]
     },
     "execution_count": 34,
     "metadata": {},
     "output_type": "execute_result"
    }
   ],
   "source": [
    "t=[]\n",
    "for tags in df['tags']:\n",
    "       t+=[tag for tag in tags]\n",
    "t=list(set(t))\n",
    "len(t)"
   ]
  },
  {
   "cell_type": "code",
   "execution_count": 64,
   "id": "1e3a35bf",
   "metadata": {},
   "outputs": [],
   "source": [
    "os.mkdir('dataset')"
   ]
  },
  {
   "cell_type": "code",
   "execution_count": 65,
   "id": "ccd974b2",
   "metadata": {},
   "outputs": [
    {
     "name": "stderr",
     "output_type": "stream",
     "text": [
      "100%|████████████████████████████████████████████████████████████████████████████| 4682/4682 [00:02<00:00, 1723.22it/s]\n"
     ]
    }
   ],
   "source": [
    "for tags in tqdm(t):\n",
    "    try:\n",
    "        os.mkdir(\"dataset/\"+tags)\n",
    "    except:\n",
    "        pass"
   ]
  },
  {
   "cell_type": "code",
   "execution_count": 72,
   "id": "f6182644",
   "metadata": {},
   "outputs": [
    {
     "name": "stderr",
     "output_type": "stream",
     "text": [
      "100%|██████████████████████████████████████████████████████████████████████████████| 4245/4245 [01:05<00:00, 64.51it/s]\n"
     ]
    }
   ],
   "source": [
    "error=0\n",
    "for i in tqdm(df.values):\n",
    "\n",
    "    src=i[4]\n",
    "    tags=i[1]\n",
    "    tags = ['Dataset/' + tag+ '/' for tag in tags]\n",
    "    for j in tags:\n",
    "        dst = j + src.split('/')[-1]\n",
    "        try:\n",
    "            copy(src,dst)\n",
    "    \n",
    "        except:\n",
    "            error+=1\n",
    "        "
   ]
  },
  {
   "cell_type": "code",
   "execution_count": 75,
   "id": "e347a20f",
   "metadata": {},
   "outputs": [
    {
     "data": {
      "text/plain": [
       "4651"
      ]
     },
     "execution_count": 75,
     "metadata": {},
     "output_type": "execute_result"
    }
   ],
   "source": [
    "folder=os.listdir('dataset')\n",
    "len(folder)"
   ]
  },
  {
   "cell_type": "code",
   "execution_count": 76,
   "id": "618fc82a",
   "metadata": {},
   "outputs": [
    {
     "name": "stderr",
     "output_type": "stream",
     "text": [
      "'ls' is not recognized as an internal or external command,\n",
      "operable program or batch file.\n"
     ]
    }
   ],
   "source": [
    "!ls"
   ]
  }
 ],
 "metadata": {
  "kernelspec": {
   "display_name": "Python 3 (ipykernel)",
   "language": "python",
   "name": "python3"
  },
  "language_info": {
   "codemirror_mode": {
    "name": "ipython",
    "version": 3
   },
   "file_extension": ".py",
   "mimetype": "text/x-python",
   "name": "python",
   "nbconvert_exporter": "python",
   "pygments_lexer": "ipython3",
   "version": "3.10.9"
  }
 },
 "nbformat": 4,
 "nbformat_minor": 5
}
