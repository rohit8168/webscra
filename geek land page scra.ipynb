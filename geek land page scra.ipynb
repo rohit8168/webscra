{
 "cells": [
  {
   "cell_type": "code",
   "execution_count": 99,
   "id": "80c50de0",
   "metadata": {},
   "outputs": [],
   "source": [
    "import selenium\n",
    "from selenium import webdriver\n",
    "from bs4 import BeautifulSoup as bs\n",
    "import pandas as pd"
   ]
  },
  {
   "cell_type": "code",
   "execution_count": 70,
   "id": "82b9b1cc",
   "metadata": {},
   "outputs": [],
   "source": [
    "driver=webdriver.Edge()"
   ]
  },
  {
   "cell_type": "code",
   "execution_count": 71,
   "id": "99c073b2",
   "metadata": {},
   "outputs": [],
   "source": [
    "url=\"https://www.youtube.com/@GeeksforGeeksVideos/videos\""
   ]
  },
  {
   "cell_type": "code",
   "execution_count": 72,
   "id": "f49c7fd6",
   "metadata": {},
   "outputs": [],
   "source": [
    "driver.get(\"https://www.youtube.com/@GeeksforGeeksVideos/videos\")"
   ]
  },
  {
   "cell_type": "code",
   "execution_count": 113,
   "id": "5dbf3708",
   "metadata": {},
   "outputs": [],
   "source": [
    "soupbig=bs(driver.page_source,'html.parser')\n",
    "soupbig=soupbig.find_all(\"ytd-rich-item-renderer\")"
   ]
  },
  {
   "cell_type": "code",
   "execution_count": 114,
   "id": "cb5fd92f",
   "metadata": {},
   "outputs": [],
   "source": [
    "data=[]\n",
    "for soup in soupbig:\n",
    "    \n",
    "    title=soup.find('a',id=\"video-title-link\").text\n",
    "    link=\"https://www.youtube.com\"+soup.find('a',id=\"video-title-link\").get(\"href\")\n",
    "    view=soup.find_all(\"span\",class_=\"inline-metadata-item style-scope ytd-video-meta-block\")[0].text\n",
    "    time=soup.find_all(\"span\",class_=\"inline-metadata-item style-scope ytd-video-meta-block\")[1].text\n",
    "    try:\n",
    "        thumbnail=soup.find('img').get(\"src\").split(\"?\")[0]\n",
    "    except:\n",
    "        thumbnail=soup.find('img').get(\"src\")\n",
    "    data.append([title,link,view,time,thumbnail])"
   ]
  },
  {
   "cell_type": "code",
   "execution_count": 115,
   "id": "8c444294",
   "metadata": {},
   "outputs": [
    {
     "data": {
      "text/plain": [
       "title         0\n",
       "link          0\n",
       "views         0\n",
       "time          0\n",
       "thumbnail    63\n",
       "dtype: int64"
      ]
     },
     "execution_count": 115,
     "metadata": {},
     "output_type": "execute_result"
    }
   ],
   "source": []
  }
 ],
 "metadata": {
  "kernelspec": {
   "display_name": "Python 3 (ipykernel)",
   "language": "python",
   "name": "python3"
  },
  "language_info": {
   "codemirror_mode": {
    "name": "ipython",
    "version": 3
   },
   "file_extension": ".py",
   "mimetype": "text/x-python",
   "name": "python",
   "nbconvert_exporter": "python",
   "pygments_lexer": "ipython3",
   "version": "3.10.9"
  }
 },
 "nbformat": 4,
 "nbformat_minor": 5
}
