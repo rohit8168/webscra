{
 "cells": [
  {
   "cell_type": "code",
   "execution_count": 4,
   "id": "93bf95a2",
   "metadata": {},
   "outputs": [],
   "source": [
    "import selenium\n",
    "from selenium import webdriver\n",
    "from bs4 import BeautifulSoup as bs\n",
    "driver=webdriver.Edge(0)"
   ]
  },
  {
   "cell_type": "code",
   "execution_count": 5,
   "id": "a1303df6",
   "metadata": {},
   "outputs": [],
   "source": [
    "driver.get(\"https://stock-pictures.netlify.app\")"
   ]
  },
  {
   "cell_type": "code",
   "execution_count": 28,
   "id": "ac9b18d2",
   "metadata": {},
   "outputs": [],
   "source": [
    "import time\n",
    "from tqdm import tqdm"
   ]
  },
  {
   "cell_type": "code",
   "execution_count": 29,
   "id": "a92d35fc",
   "metadata": {},
   "outputs": [
    {
     "name": "stderr",
     "output_type": "stream",
     "text": [
      "100%|████████████████████████████████████████████████████████████████████████████████| 100/100 [00:13<00:00,  7.19it/s]\n"
     ]
    }
   ],
   "source": [
    "soup=bs(driver.page_source,\"html.parser\")\n",
    "for i in tqdm(range(0,100000,1000)):\n",
    "    driver.execute_script(\"window.scrollTo(0,\"+str(i)+\")\")\n",
    "    time.sleep(.1)"
   ]
  }
 ],
 "metadata": {
  "kernelspec": {
   "display_name": "Python 3 (ipykernel)",
   "language": "python",
   "name": "python3"
  },
  "language_info": {
   "codemirror_mode": {
    "name": "ipython",
    "version": 3
   },
   "file_extension": ".py",
   "mimetype": "text/x-python",
   "name": "python",
   "nbconvert_exporter": "python",
   "pygments_lexer": "ipython3",
   "version": "3.10.9"
  }
 },
 "nbformat": 4,
 "nbformat_minor": 5
}
