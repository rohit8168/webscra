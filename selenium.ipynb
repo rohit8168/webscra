{
 "cells": [
  {
   "cell_type": "code",
   "execution_count": 1,
   "id": "03455c60",
   "metadata": {},
   "outputs": [],
   "source": [
    "import selenium\n",
    "from selenium import webdriver\n",
    "from selenium.webdriver.common.by import By"
   ]
  },
  {
   "cell_type": "code",
   "execution_count": 2,
   "id": "0b68e196",
   "metadata": {},
   "outputs": [],
   "source": [
    "options = webdriver.ChromeOptions()\n",
    "options.add_argument(\"--headless\")"
   ]
  },
  {
   "cell_type": "code",
   "execution_count": 3,
   "id": "ca2ae41d",
   "metadata": {},
   "outputs": [],
   "source": [
    "driver=webdriver.Edge(options=options)"
   ]
  },
  {
   "cell_type": "code",
   "execution_count": 4,
   "id": "ee524285",
   "metadata": {},
   "outputs": [],
   "source": [
    "from selenium.webdriver.common.by import By"
   ]
  },
  {
   "cell_type": "code",
   "execution_count": 5,
   "id": "eef7f030",
   "metadata": {},
   "outputs": [],
   "source": [
    "url=\"https://www.geeksforgeeks.org/\""
   ]
  },
  {
   "cell_type": "code",
   "execution_count": 6,
   "id": "d1bc0fb0",
   "metadata": {},
   "outputs": [],
   "source": [
    "driver.get(url)"
   ]
  },
  {
   "cell_type": "code",
   "execution_count": 7,
   "id": "6e68e69c",
   "metadata": {},
   "outputs": [],
   "source": [
    "from selenium.webdriver.common.action_chains import ActionChains\n",
    "action=ActionChains(driver)"
   ]
  },
  {
   "cell_type": "code",
   "execution_count": 8,
   "id": "f9e0c1cf",
   "metadata": {},
   "outputs": [],
   "source": [
    "element=driver.find_elements(By.CLASS_NAME,'header-main__list-item')\n"
   ]
  },
  {
   "cell_type": "code",
   "execution_count": 9,
   "id": "1120ec7e",
   "metadata": {},
   "outputs": [
    {
     "ename": "ElementNotInteractableException",
     "evalue": "Message: element not interactable: [object HTMLLIElement] has no size and location\n  (Session info: headless chrome=116.0.5845.180)\nStacktrace:\n\tGetHandleVerifier [0x00007FF6C3ED52A2+57122]\n\t(No symbol) [0x00007FF6C3E4EA92]\n\t(No symbol) [0x00007FF6C3D1E3AB]\n\t(No symbol) [0x00007FF6C3D22382]\n\t(No symbol) [0x00007FF6C3D23D2F]\n\t(No symbol) [0x00007FF6C3D23E20]\n\t(No symbol) [0x00007FF6C3D5CE0B]\n\t(No symbol) [0x00007FF6C3D5C5D6]\n\t(No symbol) [0x00007FF6C3D96F7B]\n\t(No symbol) [0x00007FF6C3D76FDA]\n\t(No symbol) [0x00007FF6C3D8EB82]\n\t(No symbol) [0x00007FF6C3D76DB3]\n\t(No symbol) [0x00007FF6C3D4D2B1]\n\t(No symbol) [0x00007FF6C3D4E494]\n\tGetHandleVerifier [0x00007FF6C417EF82+2849794]\n\tGetHandleVerifier [0x00007FF6C41D1D24+3189156]\n\tGetHandleVerifier [0x00007FF6C41CACAF+3160367]\n\tGetHandleVerifier [0x00007FF6C3F66D06+653702]\n\t(No symbol) [0x00007FF6C3E5A208]\n\t(No symbol) [0x00007FF6C3E562C4]\n\t(No symbol) [0x00007FF6C3E563F6]\n\t(No symbol) [0x00007FF6C3E467A3]\n\tBaseThreadInitThunk [0x00007FFE7226257D+29]\n\tRtlUserThreadStart [0x00007FFE7328AA68+40]\n",
     "output_type": "error",
     "traceback": [
      "\u001b[1;31m---------------------------------------------------------------------------\u001b[0m",
      "\u001b[1;31mElementNotInteractableException\u001b[0m           Traceback (most recent call last)",
      "Cell \u001b[1;32mIn[9], line 2\u001b[0m\n\u001b[0;32m      1\u001b[0m action\u001b[38;5;241m.\u001b[39mclick(on_element\u001b[38;5;241m=\u001b[39melement[\u001b[38;5;241m1\u001b[39m])\n\u001b[1;32m----> 2\u001b[0m \u001b[43maction\u001b[49m\u001b[38;5;241;43m.\u001b[39;49m\u001b[43mperform\u001b[49m\u001b[43m(\u001b[49m\u001b[43m)\u001b[49m\n",
      "File \u001b[1;32m~\\AppData\\Roaming\\Python\\Python310\\site-packages\\selenium\\webdriver\\common\\action_chains.py:103\u001b[0m, in \u001b[0;36mActionChains.perform\u001b[1;34m(self)\u001b[0m\n\u001b[0;32m    101\u001b[0m \u001b[38;5;28;01mdef\u001b[39;00m \u001b[38;5;21mperform\u001b[39m(\u001b[38;5;28mself\u001b[39m) \u001b[38;5;241m-\u001b[39m\u001b[38;5;241m>\u001b[39m \u001b[38;5;28;01mNone\u001b[39;00m:\n\u001b[0;32m    102\u001b[0m \u001b[38;5;250m    \u001b[39m\u001b[38;5;124;03m\"\"\"Performs all stored actions.\"\"\"\u001b[39;00m\n\u001b[1;32m--> 103\u001b[0m     \u001b[38;5;28;43mself\u001b[39;49m\u001b[38;5;241;43m.\u001b[39;49m\u001b[43mw3c_actions\u001b[49m\u001b[38;5;241;43m.\u001b[39;49m\u001b[43mperform\u001b[49m\u001b[43m(\u001b[49m\u001b[43m)\u001b[49m\n",
      "File \u001b[1;32m~\\AppData\\Roaming\\Python\\Python310\\site-packages\\selenium\\webdriver\\common\\actions\\action_builder.py:96\u001b[0m, in \u001b[0;36mActionBuilder.perform\u001b[1;34m(self)\u001b[0m\n\u001b[0;32m     94\u001b[0m         enc[\u001b[38;5;124m\"\u001b[39m\u001b[38;5;124mactions\u001b[39m\u001b[38;5;124m\"\u001b[39m]\u001b[38;5;241m.\u001b[39mappend(encoded)\n\u001b[0;32m     95\u001b[0m         device\u001b[38;5;241m.\u001b[39mactions \u001b[38;5;241m=\u001b[39m []\n\u001b[1;32m---> 96\u001b[0m \u001b[38;5;28;43mself\u001b[39;49m\u001b[38;5;241;43m.\u001b[39;49m\u001b[43mdriver\u001b[49m\u001b[38;5;241;43m.\u001b[39;49m\u001b[43mexecute\u001b[49m\u001b[43m(\u001b[49m\u001b[43mCommand\u001b[49m\u001b[38;5;241;43m.\u001b[39;49m\u001b[43mW3C_ACTIONS\u001b[49m\u001b[43m,\u001b[49m\u001b[43m \u001b[49m\u001b[43menc\u001b[49m\u001b[43m)\u001b[49m\n",
      "File \u001b[1;32m~\\AppData\\Roaming\\Python\\Python310\\site-packages\\selenium\\webdriver\\remote\\webdriver.py:345\u001b[0m, in \u001b[0;36mWebDriver.execute\u001b[1;34m(self, driver_command, params)\u001b[0m\n\u001b[0;32m    343\u001b[0m response \u001b[38;5;241m=\u001b[39m \u001b[38;5;28mself\u001b[39m\u001b[38;5;241m.\u001b[39mcommand_executor\u001b[38;5;241m.\u001b[39mexecute(driver_command, params)\n\u001b[0;32m    344\u001b[0m \u001b[38;5;28;01mif\u001b[39;00m response:\n\u001b[1;32m--> 345\u001b[0m     \u001b[38;5;28;43mself\u001b[39;49m\u001b[38;5;241;43m.\u001b[39;49m\u001b[43merror_handler\u001b[49m\u001b[38;5;241;43m.\u001b[39;49m\u001b[43mcheck_response\u001b[49m\u001b[43m(\u001b[49m\u001b[43mresponse\u001b[49m\u001b[43m)\u001b[49m\n\u001b[0;32m    346\u001b[0m     response[\u001b[38;5;124m\"\u001b[39m\u001b[38;5;124mvalue\u001b[39m\u001b[38;5;124m\"\u001b[39m] \u001b[38;5;241m=\u001b[39m \u001b[38;5;28mself\u001b[39m\u001b[38;5;241m.\u001b[39m_unwrap_value(response\u001b[38;5;241m.\u001b[39mget(\u001b[38;5;124m\"\u001b[39m\u001b[38;5;124mvalue\u001b[39m\u001b[38;5;124m\"\u001b[39m, \u001b[38;5;28;01mNone\u001b[39;00m))\n\u001b[0;32m    347\u001b[0m     \u001b[38;5;28;01mreturn\u001b[39;00m response\n",
      "File \u001b[1;32m~\\AppData\\Roaming\\Python\\Python310\\site-packages\\selenium\\webdriver\\remote\\errorhandler.py:229\u001b[0m, in \u001b[0;36mErrorHandler.check_response\u001b[1;34m(self, response)\u001b[0m\n\u001b[0;32m    227\u001b[0m         alert_text \u001b[38;5;241m=\u001b[39m value[\u001b[38;5;124m\"\u001b[39m\u001b[38;5;124malert\u001b[39m\u001b[38;5;124m\"\u001b[39m]\u001b[38;5;241m.\u001b[39mget(\u001b[38;5;124m\"\u001b[39m\u001b[38;5;124mtext\u001b[39m\u001b[38;5;124m\"\u001b[39m)\n\u001b[0;32m    228\u001b[0m     \u001b[38;5;28;01mraise\u001b[39;00m exception_class(message, screen, stacktrace, alert_text)  \u001b[38;5;66;03m# type: ignore[call-arg]  # mypy is not smart enough here\u001b[39;00m\n\u001b[1;32m--> 229\u001b[0m \u001b[38;5;28;01mraise\u001b[39;00m exception_class(message, screen, stacktrace)\n",
      "\u001b[1;31mElementNotInteractableException\u001b[0m: Message: element not interactable: [object HTMLLIElement] has no size and location\n  (Session info: headless chrome=116.0.5845.180)\nStacktrace:\n\tGetHandleVerifier [0x00007FF6C3ED52A2+57122]\n\t(No symbol) [0x00007FF6C3E4EA92]\n\t(No symbol) [0x00007FF6C3D1E3AB]\n\t(No symbol) [0x00007FF6C3D22382]\n\t(No symbol) [0x00007FF6C3D23D2F]\n\t(No symbol) [0x00007FF6C3D23E20]\n\t(No symbol) [0x00007FF6C3D5CE0B]\n\t(No symbol) [0x00007FF6C3D5C5D6]\n\t(No symbol) [0x00007FF6C3D96F7B]\n\t(No symbol) [0x00007FF6C3D76FDA]\n\t(No symbol) [0x00007FF6C3D8EB82]\n\t(No symbol) [0x00007FF6C3D76DB3]\n\t(No symbol) [0x00007FF6C3D4D2B1]\n\t(No symbol) [0x00007FF6C3D4E494]\n\tGetHandleVerifier [0x00007FF6C417EF82+2849794]\n\tGetHandleVerifier [0x00007FF6C41D1D24+3189156]\n\tGetHandleVerifier [0x00007FF6C41CACAF+3160367]\n\tGetHandleVerifier [0x00007FF6C3F66D06+653702]\n\t(No symbol) [0x00007FF6C3E5A208]\n\t(No symbol) [0x00007FF6C3E562C4]\n\t(No symbol) [0x00007FF6C3E563F6]\n\t(No symbol) [0x00007FF6C3E467A3]\n\tBaseThreadInitThunk [0x00007FFE7226257D+29]\n\tRtlUserThreadStart [0x00007FFE7328AA68+40]\n"
     ]
    }
   ],
   "source": [
    "action.click(on_element=element[1])\n",
    "action.perform()"
   ]
  },
  {
   "cell_type": "code",
   "execution_count": null,
   "id": "5d0aaea3",
   "metadata": {},
   "outputs": [],
   "source": [
    "target= driver.find_element(By.XPATH,\"//span[text()='Languages']\")"
   ]
  },
  {
   "cell_type": "code",
   "execution_count": null,
   "id": "7b0976be",
   "metadata": {},
   "outputs": [],
   "source": [
    "target2=driver.find_element(By.LINK_TEXT,'Python')"
   ]
  },
  {
   "cell_type": "code",
   "execution_count": 222,
   "id": "fd1764dc",
   "metadata": {},
   "outputs": [],
   "source": [
    "action.click_and_hold(on_element=target)\n",
    "action.perform()"
   ]
  },
  {
   "cell_type": "code",
   "execution_count": 223,
   "id": "6ef51ec7",
   "metadata": {},
   "outputs": [],
   "source": [
    "action.click(on_element=target2)\n",
    "action.perform()"
   ]
  },
  {
   "cell_type": "code",
   "execution_count": 224,
   "id": "8e425ea9",
   "metadata": {},
   "outputs": [],
   "source": [
    "from selenium.webdriver.common.keys import Keys"
   ]
  },
  {
   "cell_type": "code",
   "execution_count": 225,
   "id": "d393b47f",
   "metadata": {},
   "outputs": [],
   "source": [
    "action.key_down(Keys.CONTROL).send_keys('A').key_up(Keys.CONTROL).perform()"
   ]
  },
  {
   "cell_type": "code",
   "execution_count": null,
   "id": "c37133d6",
   "metadata": {},
   "outputs": [],
   "source": []
  }
 ],
 "metadata": {
  "kernelspec": {
   "display_name": "Python 3 (ipykernel)",
   "language": "python",
   "name": "python3"
  },
  "language_info": {
   "codemirror_mode": {
    "name": "ipython",
    "version": 3
   },
   "file_extension": ".py",
   "mimetype": "text/x-python",
   "name": "python",
   "nbconvert_exporter": "python",
   "pygments_lexer": "ipython3",
   "version": "3.10.9"
  }
 },
 "nbformat": 4,
 "nbformat_minor": 5
}
